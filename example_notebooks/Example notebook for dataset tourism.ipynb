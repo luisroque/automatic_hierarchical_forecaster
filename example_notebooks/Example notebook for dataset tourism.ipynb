{
 "cells": [
  {
   "cell_type": "code",
   "execution_count": null,
   "metadata": {},
   "outputs": [],
   "source": [
    "import warnings\n",
    "import pandas as pd\n",
    "import arviz as az\n",
    "\n",
    "import os, sys\n",
    "dir2 = os.path.abspath('')\n",
    "dir1 = os.path.dirname(dir2)\n",
    "if not dir1 in sys.path: sys.path.append(dir1)\n",
    "import calendar\n",
    "from libs.model import HGPforecaster\n",
    "from libs.metrics import calculate_metrics, metrics_to_table\n",
    "from libs.pre_processing import generate_groups_data_flat, generate_groups_data_matrix\n",
    "from libs.visual_analysis import visualize_fit, visualize_predict, visualize_prior, model_graph, traceplot, plot_gps_components, plot_elbo\n",
    "az.style.use('arviz-darkgrid')\n",
    "warnings.filterwarnings('ignore')"
   ]
  },
  {
   "cell_type": "markdown",
   "metadata": {},
   "source": [
    "# Minibatch - Outside Piecewise Linear w/ Partial pooling"
   ]
  },
  {
   "cell_type": "code",
   "execution_count": null,
   "metadata": {},
   "outputs": [],
   "source": [
    "data = pd.read_csv('../data/TourismData_v3.csv')\n",
    "data['Year'] = data['Year'].fillna(method='ffill')\n",
    "\n",
    "d = dict((v,k) for k,v in enumerate(calendar.month_name))\n",
    "data.Month = data.Month.map(d)\n",
    "data = data.assign(t=pd.to_datetime(data[['Year', 'Month']].assign(day=1))).set_index('t')\n",
    "data = data.drop(['Year', 'Month'], axis=1)\n",
    "data = data.round()\n",
    "\n",
    "groups_input = {\n",
    "    'state': [0,1],\n",
    "    'zone': [0,2],\n",
    "    'region': [0,3],\n",
    "    'purpose': [3,6]\n",
    "}"
   ]
  },
  {
   "cell_type": "code",
   "execution_count": null,
   "metadata": {},
   "outputs": [],
   "source": [
    "groups = generate_groups_data_flat(y = data, \n",
    "                               groups_input = groups_input, \n",
    "                               seasonality=12, \n",
    "                               h=24)"
   ]
  },
  {
   "cell_type": "code",
   "execution_count": null,
   "metadata": {},
   "outputs": [],
   "source": [
    "m = HGPforecaster(groups_data=groups,\n",
    "                  n_iterations=100000,\n",
    "                  changepoints = 4,\n",
    "                  partial_pool=True,\n",
    "                  minibatch=[100,20])"
   ]
  },
  {
   "cell_type": "code",
   "execution_count": null,
   "metadata": {},
   "outputs": [],
   "source": [
    "m.fit_vi()"
   ]
  },
  {
   "cell_type": "code",
   "execution_count": null,
   "metadata": {},
   "outputs": [],
   "source": [
    "m.predict()"
   ]
  },
  {
   "cell_type": "code",
   "execution_count": null,
   "metadata": {},
   "outputs": [],
   "source": [
    "plot_elbo(m.trace_vi, 50000)"
   ]
  },
  {
   "cell_type": "code",
   "execution_count": null,
   "metadata": {},
   "outputs": [],
   "source": [
    "plot_gps_components(series=31, groups=m.g, trace=m.trace_vi_samples)"
   ]
  },
  {
   "cell_type": "code",
   "execution_count": null,
   "metadata": {
    "scrolled": false
   },
   "outputs": [],
   "source": [
    "visualize_predict(groups, m.pred_samples_predict, 8)"
   ]
  },
  {
   "cell_type": "code",
   "execution_count": null,
   "metadata": {},
   "outputs": [],
   "source": [
    "results = calculate_metrics(m.pred_samples_predict, groups)\n",
    "metrics_to_table(results)"
   ]
  }
 ],
 "metadata": {
  "kernelspec": {
   "display_name": "Python 3",
   "language": "python",
   "name": "python3"
  },
  "language_info": {
   "codemirror_mode": {
    "name": "ipython",
    "version": 3
   },
   "file_extension": ".py",
   "mimetype": "text/x-python",
   "name": "python",
   "nbconvert_exporter": "python",
   "pygments_lexer": "ipython3",
   "version": "3.7.9"
  }
 },
 "nbformat": 4,
 "nbformat_minor": 4
}
